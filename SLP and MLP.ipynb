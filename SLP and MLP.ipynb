{
 "cells": [
  {
   "cell_type": "markdown",
   "id": "4e4a9204-4656-4d3d-a163-a40ba1e6bd6c",
   "metadata": {},
   "source": [
    "# SLP (Single Layer Perceptron)"
   ]
  },
  {
   "cell_type": "code",
   "execution_count": 12,
   "id": "e800e452-619f-4952-b9da-e377348e7fbb",
   "metadata": {},
   "outputs": [
    {
     "name": "stdout",
     "output_type": "stream",
     "text": [
      "Optimized Weights are [0.02 0.01] and bias is -0.03\n",
      "Predictions: [0 0 0 1]\n"
     ]
    },
    {
     "data": {
      "image/png": "[encoded data removed]",
      "text/plain": [
       "<Figure size 640x480 with 1 Axes>"
      ]
     },
     "metadata": {},
     "output_type": "display_data"
    }
   ],
   "source": [
    "import numpy as np\n",
    "import matplotlib.pyplot as plt\n",
    "# AND gate\n",
    "X = np.array([[0, 0],\n",
    "              [0, 1],\n",
    "              [1, 0],\n",
    "              [1, 1]])\n",
    "Y = np.array([0, 0, 0, 1])\n",
    "\n",
    "# Learning rate and epochs\n",
    "lr = 0.01\n",
    "epochs = 100\n",
    "\n",
    "class SLP:\n",
    "\n",
    "    def __init__(self, lr, epochs):\n",
    "        self.lr = lr\n",
    "        self.epochs = epochs\n",
    "\n",
    "    def fit(self, X, Y):\n",
    "        self.weights = np.zeros(X.shape[1])\n",
    "        self.All_loss=[]\n",
    "        self.bias = 0\n",
    "        for epoch in range(self.epochs):\n",
    "            total_loss=0\n",
    "            for j in range(X.shape[0]):\n",
    "                y_pred = self.Activation_F(np.dot(self.weights, X[j]) + self.bias)\n",
    "                error = Y[j] - y_pred\n",
    "                self.weights += self.lr * error * X[j]\n",
    "                self.bias += self.lr * error\n",
    "                total_loss+=error**2\n",
    "            self.All_loss.append(total_loss)    \n",
    "        print(f\"Optimized Weights are {self.weights} and bias is {self.bias}\")\n",
    "\n",
    "    def Activation_F(self, activation):\n",
    "        return 1 if activation >= 0 else 0\n",
    "\n",
    "    def Prediction(self, X):\n",
    "        sum = np.dot(X, self.weights) + self.bias\n",
    "        return np.array([self.Activation_F(s) for s in sum])\n",
    "\n",
    "slp = SLP(lr=lr, epochs=epochs)\n",
    "slp.fit(X, Y)\n",
    "\n",
    "predictions = rp.Prediction(X)\n",
    "print(\"Predictions:\", predictions)\n",
    "\n",
    "plt.plot(range(epochs), slp.All_loss)\n",
    "plt.xlabel('Epochs')\n",
    "plt.ylabel('Loss')\n",
    "plt.title('Loss over Epochs')\n",
    "plt.show()"
   ]
  },
  {
   "cell_type": "markdown",
   "id": "56aa8568-225c-4964-bd2c-262cae809219",
   "metadata": {},
   "source": [
    "# MLP (Multi Layer Perceptron)"
   ]
  },
  {
   "cell_type": "code",
   "execution_count": null,
   "id": "32da1b43-d0aa-4789-9bb0-7ec2c6d637d4",
   "metadata": {},
   "outputs": [],
   "source": []
  },
  {
   "cell_type": "code",
   "execution_count": null,
   "id": "4b51205e-9b88-4eeb-b318-682daf934e64",
   "metadata": {},
   "outputs": [],
   "source": []
  },
  {
   "cell_type": "code",
   "execution_count": null,
   "id": "4a7f1972-4388-4fd1-a3c6-651c0514bb8e",
   "metadata": {},
   "outputs": [],
   "source": []
  }
 ],
 "metadata": {
  "kernelspec": {
   "display_name": "Python 3 (ipykernel)",
   "language": "python",
   "name": "python3"
  },
  "language_info": {
   "codemirror_mode": {
    "name": "ipython",
    "version": 3
   },
   "file_extension": ".py",
   "mimetype": "text/x-python",
   "name": "python",
   "nbconvert_exporter": "python",
   "pygments_lexer": "ipython3",
   "version": "3.12.4"
  }
 },
 "nbformat": 4,
 "nbformat_minor": 5
}
