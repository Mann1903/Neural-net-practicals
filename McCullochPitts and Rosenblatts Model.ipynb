{
 "cells": [
  {
   "cell_type": "markdown",
   "id": "14ec6f44-c9eb-4904-925d-f28aefe8b46b",
   "metadata": {},
   "source": [
    "# McCulloch-Pitts Perceptron Model"
   ]
  },
  {
   "cell_type": "code",
   "execution_count": 30,
   "id": "06c311f2-1dcc-4a20-850e-134e860d199e",
   "metadata": {},
   "outputs": [
    {
     "name": "stdout",
     "output_type": "stream",
     "text": [
      "Input: [0 0], Weighted Sum: 0\n",
      "Input: [0 1], Weighted Sum: 1\n",
      "Input: [1 0], Weighted Sum: 1\n",
      "Input: [1 1], Weighted Sum: 2\n",
      "Predictions: [0, 0, 0, 1]\n"
     ]
    }
   ],
   "source": [
    "import numpy as np\n",
    "\n",
    "# AND gate inputs and outputs\n",
    "X = np.array([\n",
    "    [0, 0],\n",
    "    [0, 1],\n",
    "    [1, 0],\n",
    "    [1, 1]\n",
    "])\n",
    "Y = np.array([0, 0, 0, 1])\n",
    "\n",
    "# Weights\n",
    "W = [1, 1]\n",
    "threshold = 2\n",
    "\n",
    "class McCullochPittsPerceptron:\n",
    "    def __init__(self, weights, threshold):\n",
    "        self.weights = weights\n",
    "        self.threshold = threshold\n",
    "    \n",
    "    def predict(self, X):\n",
    "        # List to store predictions\n",
    "        predictions = []\n",
    "        for i in range(X.shape[0]):\n",
    "            weighted_sum = np.dot(self.weights, X[i])\n",
    "            print(f\"Input: {X[i]}, Weighted Sum: {weighted_sum}\")\n",
    "            if weighted_sum >= self.threshold:\n",
    "                predictions.append(1)\n",
    "            else:\n",
    "                predictions.append(0)\n",
    "        return predictions\n",
    "\n",
    "\n",
    "mcp = McCullochPittsPerceptron(W, threshold)\n",
    "predictions = mcp.predict(X)\n",
    "print(\"Predictions:\", predictions)"
   ]
  },
  {
   "cell_type": "markdown",
   "id": "d2f2ece7-3a1d-4d36-acc1-348c59733bec",
   "metadata": {},
   "source": [
    "# Rosenblatt's Perceptron Model"
   ]
  },
  {
   "cell_type": "code",
   "execution_count": 47,
   "id": "71aa21cb-cca1-4c77-a45f-2c97f6be3912",
   "metadata": {},
   "outputs": [
    {
     "name": "stdout",
     "output_type": "stream",
     "text": [
      "Optimized Weights are [0.02 0.01] and bias is -0.03\n",
      "Predictions: [0 0 0 1]\n"
     ]
    }
   ],
   "source": [
    "import numpy as np\n",
    "\n",
    "# Define data and labels\n",
    "X = np.array([[0, 0],\n",
    "              [0, 1],\n",
    "              [1, 0],\n",
    "              [1, 1]])\n",
    "Y = np.array([0, 0, 0, 1])\n",
    "\n",
    "# Learning rate and epochs\n",
    "lr = 0.01\n",
    "epochs = 100\n",
    "\n",
    "# Rosenblatt Perceptron Class\n",
    "class RosenblattPerceptron:\n",
    "\n",
    "    def __init__(self, lr, epochs):\n",
    "        self.lr = lr\n",
    "        self.epochs = epochs\n",
    "\n",
    "    def fit(self, X, Y):\n",
    "        self.weights = np.zeros(X.shape[1])\n",
    "        self.bias = 0\n",
    "        for epoch in range(self.epochs):\n",
    "            for j in range(X.shape[0]):\n",
    "                y_pred = self.Activation_F(np.dot(self.weights, X[j]) + self.bias)\n",
    "                loss = Y[j] - y_pred\n",
    "                self.weights += self.lr * loss * X[j]\n",
    "                self.bias += self.lr * loss\n",
    "        print(f\"Optimized Weights are {self.weights} and bias is {self.bias}\")\n",
    "\n",
    "    def Activation_F(self, activation):\n",
    "        return 1 if activation >= 0 else 0\n",
    "\n",
    "    def Prediction(self, X):\n",
    "        sum = np.dot(X, self.weights) + self.bias\n",
    "        return np.array([self.Activation_F(s) for s in sum])\n",
    "\n",
    "# Instantiate and train the model\n",
    "rp = RosenblattPerceptron(lr=lr, epochs=epochs)\n",
    "rp.fit(X, Y)\n",
    "\n",
    "# Make predictions\n",
    "predictions = rp.Prediction(X)\n",
    "print(\"Predictions:\", predictions)\n"
   ]
  },
  {
   "cell_type": "code",
   "execution_count": 41,
   "id": "b8357a22-7bb7-415e-b440-79fc8533afb6",
   "metadata": {},
   "outputs": [
    {
     "data": {
      "text/plain": [
       "4"
      ]
     },
     "execution_count": 41,
     "metadata": {},
     "output_type": "execute_result"
    }
   ],
   "source": [
    "X.shape[0]"
   ]
  },
  {
   "cell_type": "code",
   "execution_count": null,
   "id": "a1a866be-e7c2-4dc2-997a-28af1a54674d",
   "metadata": {},
   "outputs": [],
   "source": []
  }
 ],
 "metadata": {
  "kernelspec": {
   "display_name": "Python 3 (ipykernel)",
   "language": "python",
   "name": "python3"
  },
  "language_info": {
   "codemirror_mode": {
    "name": "ipython",
    "version": 3
   },
   "file_extension": ".py",
   "mimetype": "text/x-python",
   "name": "python",
   "nbconvert_exporter": "python",
   "pygments_lexer": "ipython3",
   "version": "3.12.4"
  }
 },
 "nbformat": 4,
 "nbformat_minor": 5
}
